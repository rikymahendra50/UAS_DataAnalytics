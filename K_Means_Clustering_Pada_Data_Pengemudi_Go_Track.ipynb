{
  "nbformat": 4,
  "nbformat_minor": 0,
  "metadata": {
    "colab": {
      "name": "K-Means Clustering Pada Data Pengemudi Go-Track.ipynb",
      "provenance": [],
      "collapsed_sections": [],
      "authorship_tag": "ABX9TyOrAv3jyctgj8GnMWihB6U+",
      "include_colab_link": true
    },
    "kernelspec": {
      "name": "python3",
      "display_name": "Python 3"
    },
    "language_info": {
      "name": "python"
    }
  },
  "cells": [
    {
      "cell_type": "markdown",
      "metadata": {
        "id": "view-in-github",
        "colab_type": "text"
      },
      "source": [
        "<a href=\"https://colab.research.google.com/github/rikymahendra50/UAS_DataAnalytics/blob/main/K_Means_Clustering_Pada_Data_Pengemudi_Go_Track.ipynb\" target=\"_parent\"><img src=\"https://colab.research.google.com/assets/colab-badge.svg\" alt=\"Open In Colab\"/></a>"
      ]
    },
    {
      "cell_type": "markdown",
      "source": [
        "variabel : jarak rata-rata per hari dan kecepatan dalam mengemudi per hari . "
      ],
      "metadata": {
        "id": "TnTwAxFOzIjx"
      }
    },
    {
      "cell_type": "markdown",
      "source": [
        "Import Libraries :\n",
        "\n",
        "\n",
        "1.   Panda untuk membaca dan menulis spreadsheet\n",
        "2.   Numpy untuk melakukan perhitungan yang efisien\n",
        "3.   Matplotlib untuk visualisasi data"
      ],
      "metadata": {
        "id": "YMZEqpoOzRfa"
      }
    },
    {
      "cell_type": "code",
      "execution_count": null,
      "metadata": {
        "id": "Ed2A-XHQpUyA"
      },
      "outputs": [],
      "source": [
        "import pandas as pd\n",
        "import numpy as np\n",
        "import matplotlib.pyplot as plt\n",
        "from sklearn.cluster import KMeans\n",
        "from sklearn.preprocessing import MinMaxScaler"
      ]
    },
    {
      "cell_type": "code",
      "source": [
        "from google.colab import files\n",
        "uploaded = files.upload()"
      ],
      "metadata": {
        "colab": {
          "resources": {
            "http://localhost:8080/nbextensions/google.colab/files.js": {
              "data": "Ly8gQ29weXJpZ2h0IDIwMTcgR29vZ2xlIExMQwovLwovLyBMaWNlbnNlZCB1bmRlciB0aGUgQXBhY2hlIExpY2Vuc2UsIFZlcnNpb24gMi4wICh0aGUgIkxpY2Vuc2UiKTsKLy8geW91IG1heSBub3QgdXNlIHRoaXMgZmlsZSBleGNlcHQgaW4gY29tcGxpYW5jZSB3aXRoIHRoZSBMaWNlbnNlLgovLyBZb3UgbWF5IG9idGFpbiBhIGNvcHkgb2YgdGhlIExpY2Vuc2UgYXQKLy8KLy8gICAgICBodHRwOi8vd3d3LmFwYWNoZS5vcmcvbGljZW5zZXMvTElDRU5TRS0yLjAKLy8KLy8gVW5sZXNzIHJlcXVpcmVkIGJ5IGFwcGxpY2FibGUgbGF3IG9yIGFncmVlZCB0byBpbiB3cml0aW5nLCBzb2Z0d2FyZQovLyBkaXN0cmlidXRlZCB1bmRlciB0aGUgTGljZW5zZSBpcyBkaXN0cmlidXRlZCBvbiBhbiAiQVMgSVMiIEJBU0lTLAovLyBXSVRIT1VUIFdBUlJBTlRJRVMgT1IgQ09ORElUSU9OUyBPRiBBTlkgS0lORCwgZWl0aGVyIGV4cHJlc3Mgb3IgaW1wbGllZC4KLy8gU2VlIHRoZSBMaWNlbnNlIGZvciB0aGUgc3BlY2lmaWMgbGFuZ3VhZ2UgZ292ZXJuaW5nIHBlcm1pc3Npb25zIGFuZAovLyBsaW1pdGF0aW9ucyB1bmRlciB0aGUgTGljZW5zZS4KCi8qKgogKiBAZmlsZW92ZXJ2aWV3IEhlbHBlcnMgZm9yIGdvb2dsZS5jb2xhYiBQeXRob24gbW9kdWxlLgogKi8KKGZ1bmN0aW9uKHNjb3BlKSB7CmZ1bmN0aW9uIHNwYW4odGV4dCwgc3R5bGVBdHRyaWJ1dGVzID0ge30pIHsKICBjb25zdCBlbGVtZW50ID0gZG9jdW1lbnQuY3JlYXRlRWxlbWVudCgnc3BhbicpOwogIGVsZW1lbnQudGV4dENvbnRlbnQgPSB0ZXh0OwogIGZvciAoY29uc3Qga2V5IG9mIE9iamVjdC5rZXlzKHN0eWxlQXR0cmlidXRlcykpIHsKICAgIGVsZW1lbnQuc3R5bGVba2V5XSA9IHN0eWxlQXR0cmlidXRlc1trZXldOwogIH0KICByZXR1cm4gZWxlbWVudDsKfQoKLy8gTWF4IG51bWJlciBvZiBieXRlcyB3aGljaCB3aWxsIGJlIHVwbG9hZGVkIGF0IGEgdGltZS4KY29uc3QgTUFYX1BBWUxPQURfU0laRSA9IDEwMCAqIDEwMjQ7CgpmdW5jdGlvbiBfdXBsb2FkRmlsZXMoaW5wdXRJZCwgb3V0cHV0SWQpIHsKICBjb25zdCBzdGVwcyA9IHVwbG9hZEZpbGVzU3RlcChpbnB1dElkLCBvdXRwdXRJZCk7CiAgY29uc3Qgb3V0cHV0RWxlbWVudCA9IGRvY3VtZW50LmdldEVsZW1lbnRCeUlkKG91dHB1dElkKTsKICAvLyBDYWNoZSBzdGVwcyBvbiB0aGUgb3V0cHV0RWxlbWVudCB0byBtYWtlIGl0IGF2YWlsYWJsZSBmb3IgdGhlIG5leHQgY2FsbAogIC8vIHRvIHVwbG9hZEZpbGVzQ29udGludWUgZnJvbSBQeXRob24uCiAgb3V0cHV0RWxlbWVudC5zdGVwcyA9IHN0ZXBzOwoKICByZXR1cm4gX3VwbG9hZEZpbGVzQ29udGludWUob3V0cHV0SWQpOwp9CgovLyBUaGlzIGlzIHJvdWdobHkgYW4gYXN5bmMgZ2VuZXJhdG9yIChub3Qgc3VwcG9ydGVkIGluIHRoZSBicm93c2VyIHlldCksCi8vIHdoZXJlIHRoZXJlIGFyZSBtdWx0aXBsZSBhc3luY2hyb25vdXMgc3RlcHMgYW5kIHRoZSBQeXRob24gc2lkZSBpcyBnb2luZwovLyB0byBwb2xsIGZvciBjb21wbGV0aW9uIG9mIGVhY2ggc3RlcC4KLy8gVGhpcyB1c2VzIGEgUHJvbWlzZSB0byBibG9jayB0aGUgcHl0aG9uIHNpZGUgb24gY29tcGxldGlvbiBvZiBlYWNoIHN0ZXAsCi8vIHRoZW4gcGFzc2VzIHRoZSByZXN1bHQgb2YgdGhlIHByZXZpb3VzIHN0ZXAgYXMgdGhlIGlucHV0IHRvIHRoZSBuZXh0IHN0ZXAuCmZ1bmN0aW9uIF91cGxvYWRGaWxlc0NvbnRpbnVlKG91dHB1dElkKSB7CiAgY29uc3Qgb3V0cHV0RWxlbWVudCA9IGRvY3VtZW50LmdldEVsZW1lbnRCeUlkKG91dHB1dElkKTsKICBjb25zdCBzdGVwcyA9IG91dHB1dEVsZW1lbnQuc3RlcHM7CgogIGNvbnN0IG5leHQgPSBzdGVwcy5uZXh0KG91dHB1dEVsZW1lbnQubGFzdFByb21pc2VWYWx1ZSk7CiAgcmV0dXJuIFByb21pc2UucmVzb2x2ZShuZXh0LnZhbHVlLnByb21pc2UpLnRoZW4oKHZhbHVlKSA9PiB7CiAgICAvLyBDYWNoZSB0aGUgbGFzdCBwcm9taXNlIHZhbHVlIHRvIG1ha2UgaXQgYXZhaWxhYmxlIHRvIHRoZSBuZXh0CiAgICAvLyBzdGVwIG9mIHRoZSBnZW5lcmF0b3IuCiAgICBvdXRwdXRFbGVtZW50Lmxhc3RQcm9taXNlVmFsdWUgPSB2YWx1ZTsKICAgIHJldHVybiBuZXh0LnZhbHVlLnJlc3BvbnNlOwogIH0pOwp9CgovKioKICogR2VuZXJhdG9yIGZ1bmN0aW9uIHdoaWNoIGlzIGNhbGxlZCBiZXR3ZWVuIGVhY2ggYXN5bmMgc3RlcCBvZiB0aGUgdXBsb2FkCiAqIHByb2Nlc3MuCiAqIEBwYXJhbSB7c3RyaW5nfSBpbnB1dElkIEVsZW1lbnQgSUQgb2YgdGhlIGlucHV0IGZpbGUgcGlja2VyIGVsZW1lbnQuCiAqIEBwYXJhbSB7c3RyaW5nfSBvdXRwdXRJZCBFbGVtZW50IElEIG9mIHRoZSBvdXRwdXQgZGlzcGxheS4KICogQHJldHVybiB7IUl0ZXJhYmxlPCFPYmplY3Q+fSBJdGVyYWJsZSBvZiBuZXh0IHN0ZXBzLgogKi8KZnVuY3Rpb24qIHVwbG9hZEZpbGVzU3RlcChpbnB1dElkLCBvdXRwdXRJZCkgewogIGNvbnN0IGlucHV0RWxlbWVudCA9IGRvY3VtZW50LmdldEVsZW1lbnRCeUlkKGlucHV0SWQpOwogIGlucHV0RWxlbWVudC5kaXNhYmxlZCA9IGZhbHNlOwoKICBjb25zdCBvdXRwdXRFbGVtZW50ID0gZG9jdW1lbnQuZ2V0RWxlbWVudEJ5SWQob3V0cHV0SWQpOwogIG91dHB1dEVsZW1lbnQuaW5uZXJIVE1MID0gJyc7CgogIGNvbnN0IHBpY2tlZFByb21pc2UgPSBuZXcgUHJvbWlzZSgocmVzb2x2ZSkgPT4gewogICAgaW5wdXRFbGVtZW50LmFkZEV2ZW50TGlzdGVuZXIoJ2NoYW5nZScsIChlKSA9PiB7CiAgICAgIHJlc29sdmUoZS50YXJnZXQuZmlsZXMpOwogICAgfSk7CiAgfSk7CgogIGNvbnN0IGNhbmNlbCA9IGRvY3VtZW50LmNyZWF0ZUVsZW1lbnQoJ2J1dHRvbicpOwogIGlucHV0RWxlbWVudC5wYXJlbnRFbGVtZW50LmFwcGVuZENoaWxkKGNhbmNlbCk7CiAgY2FuY2VsLnRleHRDb250ZW50ID0gJ0NhbmNlbCB1cGxvYWQnOwogIGNvbnN0IGNhbmNlbFByb21pc2UgPSBuZXcgUHJvbWlzZSgocmVzb2x2ZSkgPT4gewogICAgY2FuY2VsLm9uY2xpY2sgPSAoKSA9PiB7CiAgICAgIHJlc29sdmUobnVsbCk7CiAgICB9OwogIH0pOwoKICAvLyBXYWl0IGZvciB0aGUgdXNlciB0byBwaWNrIHRoZSBmaWxlcy4KICBjb25zdCBmaWxlcyA9IHlpZWxkIHsKICAgIHByb21pc2U6IFByb21pc2UucmFjZShbcGlja2VkUHJvbWlzZSwgY2FuY2VsUHJvbWlzZV0pLAogICAgcmVzcG9uc2U6IHsKICAgICAgYWN0aW9uOiAnc3RhcnRpbmcnLAogICAgfQogIH07CgogIGNhbmNlbC5yZW1vdmUoKTsKCiAgLy8gRGlzYWJsZSB0aGUgaW5wdXQgZWxlbWVudCBzaW5jZSBmdXJ0aGVyIHBpY2tzIGFyZSBub3QgYWxsb3dlZC4KICBpbnB1dEVsZW1lbnQuZGlzYWJsZWQgPSB0cnVlOwoKICBpZiAoIWZpbGVzKSB7CiAgICByZXR1cm4gewogICAgICByZXNwb25zZTogewogICAgICAgIGFjdGlvbjogJ2NvbXBsZXRlJywKICAgICAgfQogICAgfTsKICB9CgogIGZvciAoY29uc3QgZmlsZSBvZiBmaWxlcykgewogICAgY29uc3QgbGkgPSBkb2N1bWVudC5jcmVhdGVFbGVtZW50KCdsaScpOwogICAgbGkuYXBwZW5kKHNwYW4oZmlsZS5uYW1lLCB7Zm9udFdlaWdodDogJ2JvbGQnfSkpOwogICAgbGkuYXBwZW5kKHNwYW4oCiAgICAgICAgYCgke2ZpbGUudHlwZSB8fCAnbi9hJ30pIC0gJHtmaWxlLnNpemV9IGJ5dGVzLCBgICsKICAgICAgICBgbGFzdCBtb2RpZmllZDogJHsKICAgICAgICAgICAgZmlsZS5sYXN0TW9kaWZpZWREYXRlID8gZmlsZS5sYXN0TW9kaWZpZWREYXRlLnRvTG9jYWxlRGF0ZVN0cmluZygpIDoKICAgICAgICAgICAgICAgICAgICAgICAgICAgICAgICAgICAgJ24vYSd9IC0gYCkpOwogICAgY29uc3QgcGVyY2VudCA9IHNwYW4oJzAlIGRvbmUnKTsKICAgIGxpLmFwcGVuZENoaWxkKHBlcmNlbnQpOwoKICAgIG91dHB1dEVsZW1lbnQuYXBwZW5kQ2hpbGQobGkpOwoKICAgIGNvbnN0IGZpbGVEYXRhUHJvbWlzZSA9IG5ldyBQcm9taXNlKChyZXNvbHZlKSA9PiB7CiAgICAgIGNvbnN0IHJlYWRlciA9IG5ldyBGaWxlUmVhZGVyKCk7CiAgICAgIHJlYWRlci5vbmxvYWQgPSAoZSkgPT4gewogICAgICAgIHJlc29sdmUoZS50YXJnZXQucmVzdWx0KTsKICAgICAgfTsKICAgICAgcmVhZGVyLnJlYWRBc0FycmF5QnVmZmVyKGZpbGUpOwogICAgfSk7CiAgICAvLyBXYWl0IGZvciB0aGUgZGF0YSB0byBiZSByZWFkeS4KICAgIGxldCBmaWxlRGF0YSA9IHlpZWxkIHsKICAgICAgcHJvbWlzZTogZmlsZURhdGFQcm9taXNlLAogICAgICByZXNwb25zZTogewogICAgICAgIGFjdGlvbjogJ2NvbnRpbnVlJywKICAgICAgfQogICAgfTsKCiAgICAvLyBVc2UgYSBjaHVua2VkIHNlbmRpbmcgdG8gYXZvaWQgbWVzc2FnZSBzaXplIGxpbWl0cy4gU2VlIGIvNjIxMTU2NjAuCiAgICBsZXQgcG9zaXRpb24gPSAwOwogICAgZG8gewogICAgICBjb25zdCBsZW5ndGggPSBNYXRoLm1pbihmaWxlRGF0YS5ieXRlTGVuZ3RoIC0gcG9zaXRpb24sIE1BWF9QQVlMT0FEX1NJWkUpOwogICAgICBjb25zdCBjaHVuayA9IG5ldyBVaW50OEFycmF5KGZpbGVEYXRhLCBwb3NpdGlvbiwgbGVuZ3RoKTsKICAgICAgcG9zaXRpb24gKz0gbGVuZ3RoOwoKICAgICAgY29uc3QgYmFzZTY0ID0gYnRvYShTdHJpbmcuZnJvbUNoYXJDb2RlLmFwcGx5KG51bGwsIGNodW5rKSk7CiAgICAgIHlpZWxkIHsKICAgICAgICByZXNwb25zZTogewogICAgICAgICAgYWN0aW9uOiAnYXBwZW5kJywKICAgICAgICAgIGZpbGU6IGZpbGUubmFtZSwKICAgICAgICAgIGRhdGE6IGJhc2U2NCwKICAgICAgICB9LAogICAgICB9OwoKICAgICAgbGV0IHBlcmNlbnREb25lID0gZmlsZURhdGEuYnl0ZUxlbmd0aCA9PT0gMCA/CiAgICAgICAgICAxMDAgOgogICAgICAgICAgTWF0aC5yb3VuZCgocG9zaXRpb24gLyBmaWxlRGF0YS5ieXRlTGVuZ3RoKSAqIDEwMCk7CiAgICAgIHBlcmNlbnQudGV4dENvbnRlbnQgPSBgJHtwZXJjZW50RG9uZX0lIGRvbmVgOwoKICAgIH0gd2hpbGUgKHBvc2l0aW9uIDwgZmlsZURhdGEuYnl0ZUxlbmd0aCk7CiAgfQoKICAvLyBBbGwgZG9uZS4KICB5aWVsZCB7CiAgICByZXNwb25zZTogewogICAgICBhY3Rpb246ICdjb21wbGV0ZScsCiAgICB9CiAgfTsKfQoKc2NvcGUuZ29vZ2xlID0gc2NvcGUuZ29vZ2xlIHx8IHt9OwpzY29wZS5nb29nbGUuY29sYWIgPSBzY29wZS5nb29nbGUuY29sYWIgfHwge307CnNjb3BlLmdvb2dsZS5jb2xhYi5fZmlsZXMgPSB7CiAgX3VwbG9hZEZpbGVzLAogIF91cGxvYWRGaWxlc0NvbnRpbnVlLAp9Owp9KShzZWxmKTsK",
              "ok": true,
              "headers": [
                [
                  "content-type",
                  "application/javascript"
                ]
              ],
              "status": 200,
              "status_text": ""
            }
          },
          "base_uri": "https://localhost:8080/",
          "height": 108
        },
        "id": "Sh7rO0-0piv2",
        "outputId": "dc859003-96f7-4f39-a323-aa3ef1fba606"
      },
      "execution_count": null,
      "outputs": [
        {
          "output_type": "display_data",
          "data": {
            "text/plain": [
              "<IPython.core.display.HTML object>"
            ],
            "text/html": [
              "\n",
              "     <input type=\"file\" id=\"files-22e40da1-4091-4cc7-80e0-c10bc8ad57f9\" name=\"files[]\" multiple disabled\n",
              "        style=\"border:none\" />\n",
              "     <output id=\"result-22e40da1-4091-4cc7-80e0-c10bc8ad57f9\">\n",
              "      Upload widget is only available when the cell has been executed in the\n",
              "      current browser session. Please rerun this cell to enable.\n",
              "      </output>\n",
              "      <script src=\"/nbextensions/google.colab/files.js\"></script> "
            ]
          },
          "metadata": {}
        },
        {
          "output_type": "stream",
          "name": "stdout",
          "text": [
            "Saving go_track_tracks.csv to go_track_tracks.csv\n",
            "Saving go_track_trackspoints.csv to go_track_trackspoints.csv\n"
          ]
        }
      ]
    },
    {
      "cell_type": "markdown",
      "source": [
        "Data yang digunakan yakni dataset sampel data pengemudi (driver) pada aplikasi Go-Track. Dibawah ini adalah script untuk menginput data (baris 1) dan membaca data (baris 2)"
      ],
      "metadata": {
        "id": "LGzGodbFz_HA"
      }
    },
    {
      "cell_type": "code",
      "source": [
        "driver = pd.read_csv(\"go_track_tracks.csv\")\n",
        "driver.head()"
      ],
      "metadata": {
        "colab": {
          "base_uri": "https://localhost:8080/",
          "height": 206
        },
        "id": "FnK0aX30pcSU",
        "outputId": "66fcd05b-c468-4dab-cbb8-5fde8df73bdb"
      },
      "execution_count": null,
      "outputs": [
        {
          "output_type": "execute_result",
          "data": {
            "text/plain": [
              "   id  id_android      speed      time  distance  rating  rating_bus  \\\n",
              "0   1           0  19.210586  0.138049     2.652       3           0   \n",
              "1   2           0  30.848229  0.171485     5.290       3           0   \n",
              "2   3           1  13.560101  0.067699     0.918       3           0   \n",
              "3   4           1  19.766679  0.389544     7.700       3           0   \n",
              "4   8           0  25.807401  0.154801     3.995       2           0   \n",
              "\n",
              "   rating_weather  car_or_bus linha  \n",
              "0               0           1   NaN  \n",
              "1               0           1   NaN  \n",
              "2               0           2   NaN  \n",
              "3               0           2   NaN  \n",
              "4               0           1   NaN  "
            ],
            "text/html": [
              "\n",
              "  <div id=\"df-57910f87-c597-4c1f-8515-8be9d8b2c825\">\n",
              "    <div class=\"colab-df-container\">\n",
              "      <div>\n",
              "<style scoped>\n",
              "    .dataframe tbody tr th:only-of-type {\n",
              "        vertical-align: middle;\n",
              "    }\n",
              "\n",
              "    .dataframe tbody tr th {\n",
              "        vertical-align: top;\n",
              "    }\n",
              "\n",
              "    .dataframe thead th {\n",
              "        text-align: right;\n",
              "    }\n",
              "</style>\n",
              "<table border=\"1\" class=\"dataframe\">\n",
              "  <thead>\n",
              "    <tr style=\"text-align: right;\">\n",
              "      <th></th>\n",
              "      <th>id</th>\n",
              "      <th>id_android</th>\n",
              "      <th>speed</th>\n",
              "      <th>time</th>\n",
              "      <th>distance</th>\n",
              "      <th>rating</th>\n",
              "      <th>rating_bus</th>\n",
              "      <th>rating_weather</th>\n",
              "      <th>car_or_bus</th>\n",
              "      <th>linha</th>\n",
              "    </tr>\n",
              "  </thead>\n",
              "  <tbody>\n",
              "    <tr>\n",
              "      <th>0</th>\n",
              "      <td>1</td>\n",
              "      <td>0</td>\n",
              "      <td>19.210586</td>\n",
              "      <td>0.138049</td>\n",
              "      <td>2.652</td>\n",
              "      <td>3</td>\n",
              "      <td>0</td>\n",
              "      <td>0</td>\n",
              "      <td>1</td>\n",
              "      <td>NaN</td>\n",
              "    </tr>\n",
              "    <tr>\n",
              "      <th>1</th>\n",
              "      <td>2</td>\n",
              "      <td>0</td>\n",
              "      <td>30.848229</td>\n",
              "      <td>0.171485</td>\n",
              "      <td>5.290</td>\n",
              "      <td>3</td>\n",
              "      <td>0</td>\n",
              "      <td>0</td>\n",
              "      <td>1</td>\n",
              "      <td>NaN</td>\n",
              "    </tr>\n",
              "    <tr>\n",
              "      <th>2</th>\n",
              "      <td>3</td>\n",
              "      <td>1</td>\n",
              "      <td>13.560101</td>\n",
              "      <td>0.067699</td>\n",
              "      <td>0.918</td>\n",
              "      <td>3</td>\n",
              "      <td>0</td>\n",
              "      <td>0</td>\n",
              "      <td>2</td>\n",
              "      <td>NaN</td>\n",
              "    </tr>\n",
              "    <tr>\n",
              "      <th>3</th>\n",
              "      <td>4</td>\n",
              "      <td>1</td>\n",
              "      <td>19.766679</td>\n",
              "      <td>0.389544</td>\n",
              "      <td>7.700</td>\n",
              "      <td>3</td>\n",
              "      <td>0</td>\n",
              "      <td>0</td>\n",
              "      <td>2</td>\n",
              "      <td>NaN</td>\n",
              "    </tr>\n",
              "    <tr>\n",
              "      <th>4</th>\n",
              "      <td>8</td>\n",
              "      <td>0</td>\n",
              "      <td>25.807401</td>\n",
              "      <td>0.154801</td>\n",
              "      <td>3.995</td>\n",
              "      <td>2</td>\n",
              "      <td>0</td>\n",
              "      <td>0</td>\n",
              "      <td>1</td>\n",
              "      <td>NaN</td>\n",
              "    </tr>\n",
              "  </tbody>\n",
              "</table>\n",
              "</div>\n",
              "      <button class=\"colab-df-convert\" onclick=\"convertToInteractive('df-57910f87-c597-4c1f-8515-8be9d8b2c825')\"\n",
              "              title=\"Convert this dataframe to an interactive table.\"\n",
              "              style=\"display:none;\">\n",
              "        \n",
              "  <svg xmlns=\"http://www.w3.org/2000/svg\" height=\"24px\"viewBox=\"0 0 24 24\"\n",
              "       width=\"24px\">\n",
              "    <path d=\"M0 0h24v24H0V0z\" fill=\"none\"/>\n",
              "    <path d=\"M18.56 5.44l.94 2.06.94-2.06 2.06-.94-2.06-.94-.94-2.06-.94 2.06-2.06.94zm-11 1L8.5 8.5l.94-2.06 2.06-.94-2.06-.94L8.5 2.5l-.94 2.06-2.06.94zm10 10l.94 2.06.94-2.06 2.06-.94-2.06-.94-.94-2.06-.94 2.06-2.06.94z\"/><path d=\"M17.41 7.96l-1.37-1.37c-.4-.4-.92-.59-1.43-.59-.52 0-1.04.2-1.43.59L10.3 9.45l-7.72 7.72c-.78.78-.78 2.05 0 2.83L4 21.41c.39.39.9.59 1.41.59.51 0 1.02-.2 1.41-.59l7.78-7.78 2.81-2.81c.8-.78.8-2.07 0-2.86zM5.41 20L4 18.59l7.72-7.72 1.47 1.35L5.41 20z\"/>\n",
              "  </svg>\n",
              "      </button>\n",
              "      \n",
              "  <style>\n",
              "    .colab-df-container {\n",
              "      display:flex;\n",
              "      flex-wrap:wrap;\n",
              "      gap: 12px;\n",
              "    }\n",
              "\n",
              "    .colab-df-convert {\n",
              "      background-color: #E8F0FE;\n",
              "      border: none;\n",
              "      border-radius: 50%;\n",
              "      cursor: pointer;\n",
              "      display: none;\n",
              "      fill: #1967D2;\n",
              "      height: 32px;\n",
              "      padding: 0 0 0 0;\n",
              "      width: 32px;\n",
              "    }\n",
              "\n",
              "    .colab-df-convert:hover {\n",
              "      background-color: #E2EBFA;\n",
              "      box-shadow: 0px 1px 2px rgba(60, 64, 67, 0.3), 0px 1px 3px 1px rgba(60, 64, 67, 0.15);\n",
              "      fill: #174EA6;\n",
              "    }\n",
              "\n",
              "    [theme=dark] .colab-df-convert {\n",
              "      background-color: #3B4455;\n",
              "      fill: #D2E3FC;\n",
              "    }\n",
              "\n",
              "    [theme=dark] .colab-df-convert:hover {\n",
              "      background-color: #434B5C;\n",
              "      box-shadow: 0px 1px 3px 1px rgba(0, 0, 0, 0.15);\n",
              "      filter: drop-shadow(0px 1px 2px rgba(0, 0, 0, 0.3));\n",
              "      fill: #FFFFFF;\n",
              "    }\n",
              "  </style>\n",
              "\n",
              "      <script>\n",
              "        const buttonEl =\n",
              "          document.querySelector('#df-57910f87-c597-4c1f-8515-8be9d8b2c825 button.colab-df-convert');\n",
              "        buttonEl.style.display =\n",
              "          google.colab.kernel.accessAllowed ? 'block' : 'none';\n",
              "\n",
              "        async function convertToInteractive(key) {\n",
              "          const element = document.querySelector('#df-57910f87-c597-4c1f-8515-8be9d8b2c825');\n",
              "          const dataTable =\n",
              "            await google.colab.kernel.invokeFunction('convertToInteractive',\n",
              "                                                     [key], {});\n",
              "          if (!dataTable) return;\n",
              "\n",
              "          const docLinkHtml = 'Like what you see? Visit the ' +\n",
              "            '<a target=\"_blank\" href=https://colab.research.google.com/notebooks/data_table.ipynb>data table notebook</a>'\n",
              "            + ' to learn more about interactive tables.';\n",
              "          element.innerHTML = '';\n",
              "          dataTable['output_type'] = 'display_data';\n",
              "          await google.colab.output.renderOutput(dataTable, element);\n",
              "          const docLink = document.createElement('div');\n",
              "          docLink.innerHTML = docLinkHtml;\n",
              "          element.appendChild(docLink);\n",
              "        }\n",
              "      </script>\n",
              "    </div>\n",
              "  </div>\n",
              "  "
            ]
          },
          "metadata": {},
          "execution_count": 7
        }
      ]
    },
    {
      "cell_type": "markdown",
      "source": [
        "Menghilangkan beberapa kolom yang tidak diperlukan . Sehingga hanya menyisakan 4 kolom yakni id , id_android,speed dan distance "
      ],
      "metadata": {
        "id": "LyQD6EqA0Nxi"
      }
    },
    {
      "cell_type": "code",
      "source": [
        "driver = driver.drop([\"linha\", \"car_or_bus\",\"rating_weather\", \"rating_bus\",\"rating\",\"time\"], axis = 1)\n",
        "driver.head()"
      ],
      "metadata": {
        "colab": {
          "base_uri": "https://localhost:8080/",
          "height": 206
        },
        "id": "HZb3XzR7p1O-",
        "outputId": "e147443c-c893-439a-a829-563cb2b9f3c1"
      },
      "execution_count": null,
      "outputs": [
        {
          "output_type": "execute_result",
          "data": {
            "text/plain": [
              "   id  id_android      speed  distance\n",
              "0   1           0  19.210586     2.652\n",
              "1   2           0  30.848229     5.290\n",
              "2   3           1  13.560101     0.918\n",
              "3   4           1  19.766679     7.700\n",
              "4   8           0  25.807401     3.995"
            ],
            "text/html": [
              "\n",
              "  <div id=\"df-c4bdef8c-5387-4846-9c69-902023747470\">\n",
              "    <div class=\"colab-df-container\">\n",
              "      <div>\n",
              "<style scoped>\n",
              "    .dataframe tbody tr th:only-of-type {\n",
              "        vertical-align: middle;\n",
              "    }\n",
              "\n",
              "    .dataframe tbody tr th {\n",
              "        vertical-align: top;\n",
              "    }\n",
              "\n",
              "    .dataframe thead th {\n",
              "        text-align: right;\n",
              "    }\n",
              "</style>\n",
              "<table border=\"1\" class=\"dataframe\">\n",
              "  <thead>\n",
              "    <tr style=\"text-align: right;\">\n",
              "      <th></th>\n",
              "      <th>id</th>\n",
              "      <th>id_android</th>\n",
              "      <th>speed</th>\n",
              "      <th>distance</th>\n",
              "    </tr>\n",
              "  </thead>\n",
              "  <tbody>\n",
              "    <tr>\n",
              "      <th>0</th>\n",
              "      <td>1</td>\n",
              "      <td>0</td>\n",
              "      <td>19.210586</td>\n",
              "      <td>2.652</td>\n",
              "    </tr>\n",
              "    <tr>\n",
              "      <th>1</th>\n",
              "      <td>2</td>\n",
              "      <td>0</td>\n",
              "      <td>30.848229</td>\n",
              "      <td>5.290</td>\n",
              "    </tr>\n",
              "    <tr>\n",
              "      <th>2</th>\n",
              "      <td>3</td>\n",
              "      <td>1</td>\n",
              "      <td>13.560101</td>\n",
              "      <td>0.918</td>\n",
              "    </tr>\n",
              "    <tr>\n",
              "      <th>3</th>\n",
              "      <td>4</td>\n",
              "      <td>1</td>\n",
              "      <td>19.766679</td>\n",
              "      <td>7.700</td>\n",
              "    </tr>\n",
              "    <tr>\n",
              "      <th>4</th>\n",
              "      <td>8</td>\n",
              "      <td>0</td>\n",
              "      <td>25.807401</td>\n",
              "      <td>3.995</td>\n",
              "    </tr>\n",
              "  </tbody>\n",
              "</table>\n",
              "</div>\n",
              "      <button class=\"colab-df-convert\" onclick=\"convertToInteractive('df-c4bdef8c-5387-4846-9c69-902023747470')\"\n",
              "              title=\"Convert this dataframe to an interactive table.\"\n",
              "              style=\"display:none;\">\n",
              "        \n",
              "  <svg xmlns=\"http://www.w3.org/2000/svg\" height=\"24px\"viewBox=\"0 0 24 24\"\n",
              "       width=\"24px\">\n",
              "    <path d=\"M0 0h24v24H0V0z\" fill=\"none\"/>\n",
              "    <path d=\"M18.56 5.44l.94 2.06.94-2.06 2.06-.94-2.06-.94-.94-2.06-.94 2.06-2.06.94zm-11 1L8.5 8.5l.94-2.06 2.06-.94-2.06-.94L8.5 2.5l-.94 2.06-2.06.94zm10 10l.94 2.06.94-2.06 2.06-.94-2.06-.94-.94-2.06-.94 2.06-2.06.94z\"/><path d=\"M17.41 7.96l-1.37-1.37c-.4-.4-.92-.59-1.43-.59-.52 0-1.04.2-1.43.59L10.3 9.45l-7.72 7.72c-.78.78-.78 2.05 0 2.83L4 21.41c.39.39.9.59 1.41.59.51 0 1.02-.2 1.41-.59l7.78-7.78 2.81-2.81c.8-.78.8-2.07 0-2.86zM5.41 20L4 18.59l7.72-7.72 1.47 1.35L5.41 20z\"/>\n",
              "  </svg>\n",
              "      </button>\n",
              "      \n",
              "  <style>\n",
              "    .colab-df-container {\n",
              "      display:flex;\n",
              "      flex-wrap:wrap;\n",
              "      gap: 12px;\n",
              "    }\n",
              "\n",
              "    .colab-df-convert {\n",
              "      background-color: #E8F0FE;\n",
              "      border: none;\n",
              "      border-radius: 50%;\n",
              "      cursor: pointer;\n",
              "      display: none;\n",
              "      fill: #1967D2;\n",
              "      height: 32px;\n",
              "      padding: 0 0 0 0;\n",
              "      width: 32px;\n",
              "    }\n",
              "\n",
              "    .colab-df-convert:hover {\n",
              "      background-color: #E2EBFA;\n",
              "      box-shadow: 0px 1px 2px rgba(60, 64, 67, 0.3), 0px 1px 3px 1px rgba(60, 64, 67, 0.15);\n",
              "      fill: #174EA6;\n",
              "    }\n",
              "\n",
              "    [theme=dark] .colab-df-convert {\n",
              "      background-color: #3B4455;\n",
              "      fill: #D2E3FC;\n",
              "    }\n",
              "\n",
              "    [theme=dark] .colab-df-convert:hover {\n",
              "      background-color: #434B5C;\n",
              "      box-shadow: 0px 1px 3px 1px rgba(0, 0, 0, 0.15);\n",
              "      filter: drop-shadow(0px 1px 2px rgba(0, 0, 0, 0.3));\n",
              "      fill: #FFFFFF;\n",
              "    }\n",
              "  </style>\n",
              "\n",
              "      <script>\n",
              "        const buttonEl =\n",
              "          document.querySelector('#df-c4bdef8c-5387-4846-9c69-902023747470 button.colab-df-convert');\n",
              "        buttonEl.style.display =\n",
              "          google.colab.kernel.accessAllowed ? 'block' : 'none';\n",
              "\n",
              "        async function convertToInteractive(key) {\n",
              "          const element = document.querySelector('#df-c4bdef8c-5387-4846-9c69-902023747470');\n",
              "          const dataTable =\n",
              "            await google.colab.kernel.invokeFunction('convertToInteractive',\n",
              "                                                     [key], {});\n",
              "          if (!dataTable) return;\n",
              "\n",
              "          const docLinkHtml = 'Like what you see? Visit the ' +\n",
              "            '<a target=\"_blank\" href=https://colab.research.google.com/notebooks/data_table.ipynb>data table notebook</a>'\n",
              "            + ' to learn more about interactive tables.';\n",
              "          element.innerHTML = '';\n",
              "          dataTable['output_type'] = 'display_data';\n",
              "          await google.colab.output.renderOutput(dataTable, element);\n",
              "          const docLink = document.createElement('div');\n",
              "          docLink.innerHTML = docLinkHtml;\n",
              "          element.appendChild(docLink);\n",
              "        }\n",
              "      </script>\n",
              "    </div>\n",
              "  </div>\n",
              "  "
            ]
          },
          "metadata": {},
          "execution_count": 8
        }
      ]
    },
    {
      "cell_type": "markdown",
      "source": [
        "Menentukan variabel yang akan di klusterkan"
      ],
      "metadata": {
        "id": "WqRjboFY0mrt"
      }
    },
    {
      "cell_type": "code",
      "source": [
        "driver_x = driver.iloc[:, 1:3]\n",
        "driver_x.head()"
      ],
      "metadata": {
        "colab": {
          "base_uri": "https://localhost:8080/",
          "height": 206
        },
        "id": "u0RAiQqtp5SJ",
        "outputId": "f68e171f-51a2-4c33-d4e7-4f3fec498126"
      },
      "execution_count": null,
      "outputs": [
        {
          "output_type": "execute_result",
          "data": {
            "text/plain": [
              "   id_android      speed\n",
              "0           0  19.210586\n",
              "1           0  30.848229\n",
              "2           1  13.560101\n",
              "3           1  19.766679\n",
              "4           0  25.807401"
            ],
            "text/html": [
              "\n",
              "  <div id=\"df-f6937b5c-1caa-4ec4-9e1b-00aa028d5dc8\">\n",
              "    <div class=\"colab-df-container\">\n",
              "      <div>\n",
              "<style scoped>\n",
              "    .dataframe tbody tr th:only-of-type {\n",
              "        vertical-align: middle;\n",
              "    }\n",
              "\n",
              "    .dataframe tbody tr th {\n",
              "        vertical-align: top;\n",
              "    }\n",
              "\n",
              "    .dataframe thead th {\n",
              "        text-align: right;\n",
              "    }\n",
              "</style>\n",
              "<table border=\"1\" class=\"dataframe\">\n",
              "  <thead>\n",
              "    <tr style=\"text-align: right;\">\n",
              "      <th></th>\n",
              "      <th>id_android</th>\n",
              "      <th>speed</th>\n",
              "    </tr>\n",
              "  </thead>\n",
              "  <tbody>\n",
              "    <tr>\n",
              "      <th>0</th>\n",
              "      <td>0</td>\n",
              "      <td>19.210586</td>\n",
              "    </tr>\n",
              "    <tr>\n",
              "      <th>1</th>\n",
              "      <td>0</td>\n",
              "      <td>30.848229</td>\n",
              "    </tr>\n",
              "    <tr>\n",
              "      <th>2</th>\n",
              "      <td>1</td>\n",
              "      <td>13.560101</td>\n",
              "    </tr>\n",
              "    <tr>\n",
              "      <th>3</th>\n",
              "      <td>1</td>\n",
              "      <td>19.766679</td>\n",
              "    </tr>\n",
              "    <tr>\n",
              "      <th>4</th>\n",
              "      <td>0</td>\n",
              "      <td>25.807401</td>\n",
              "    </tr>\n",
              "  </tbody>\n",
              "</table>\n",
              "</div>\n",
              "      <button class=\"colab-df-convert\" onclick=\"convertToInteractive('df-f6937b5c-1caa-4ec4-9e1b-00aa028d5dc8')\"\n",
              "              title=\"Convert this dataframe to an interactive table.\"\n",
              "              style=\"display:none;\">\n",
              "        \n",
              "  <svg xmlns=\"http://www.w3.org/2000/svg\" height=\"24px\"viewBox=\"0 0 24 24\"\n",
              "       width=\"24px\">\n",
              "    <path d=\"M0 0h24v24H0V0z\" fill=\"none\"/>\n",
              "    <path d=\"M18.56 5.44l.94 2.06.94-2.06 2.06-.94-2.06-.94-.94-2.06-.94 2.06-2.06.94zm-11 1L8.5 8.5l.94-2.06 2.06-.94-2.06-.94L8.5 2.5l-.94 2.06-2.06.94zm10 10l.94 2.06.94-2.06 2.06-.94-2.06-.94-.94-2.06-.94 2.06-2.06.94z\"/><path d=\"M17.41 7.96l-1.37-1.37c-.4-.4-.92-.59-1.43-.59-.52 0-1.04.2-1.43.59L10.3 9.45l-7.72 7.72c-.78.78-.78 2.05 0 2.83L4 21.41c.39.39.9.59 1.41.59.51 0 1.02-.2 1.41-.59l7.78-7.78 2.81-2.81c.8-.78.8-2.07 0-2.86zM5.41 20L4 18.59l7.72-7.72 1.47 1.35L5.41 20z\"/>\n",
              "  </svg>\n",
              "      </button>\n",
              "      \n",
              "  <style>\n",
              "    .colab-df-container {\n",
              "      display:flex;\n",
              "      flex-wrap:wrap;\n",
              "      gap: 12px;\n",
              "    }\n",
              "\n",
              "    .colab-df-convert {\n",
              "      background-color: #E8F0FE;\n",
              "      border: none;\n",
              "      border-radius: 50%;\n",
              "      cursor: pointer;\n",
              "      display: none;\n",
              "      fill: #1967D2;\n",
              "      height: 32px;\n",
              "      padding: 0 0 0 0;\n",
              "      width: 32px;\n",
              "    }\n",
              "\n",
              "    .colab-df-convert:hover {\n",
              "      background-color: #E2EBFA;\n",
              "      box-shadow: 0px 1px 2px rgba(60, 64, 67, 0.3), 0px 1px 3px 1px rgba(60, 64, 67, 0.15);\n",
              "      fill: #174EA6;\n",
              "    }\n",
              "\n",
              "    [theme=dark] .colab-df-convert {\n",
              "      background-color: #3B4455;\n",
              "      fill: #D2E3FC;\n",
              "    }\n",
              "\n",
              "    [theme=dark] .colab-df-convert:hover {\n",
              "      background-color: #434B5C;\n",
              "      box-shadow: 0px 1px 3px 1px rgba(0, 0, 0, 0.15);\n",
              "      filter: drop-shadow(0px 1px 2px rgba(0, 0, 0, 0.3));\n",
              "      fill: #FFFFFF;\n",
              "    }\n",
              "  </style>\n",
              "\n",
              "      <script>\n",
              "        const buttonEl =\n",
              "          document.querySelector('#df-f6937b5c-1caa-4ec4-9e1b-00aa028d5dc8 button.colab-df-convert');\n",
              "        buttonEl.style.display =\n",
              "          google.colab.kernel.accessAllowed ? 'block' : 'none';\n",
              "\n",
              "        async function convertToInteractive(key) {\n",
              "          const element = document.querySelector('#df-f6937b5c-1caa-4ec4-9e1b-00aa028d5dc8');\n",
              "          const dataTable =\n",
              "            await google.colab.kernel.invokeFunction('convertToInteractive',\n",
              "                                                     [key], {});\n",
              "          if (!dataTable) return;\n",
              "\n",
              "          const docLinkHtml = 'Like what you see? Visit the ' +\n",
              "            '<a target=\"_blank\" href=https://colab.research.google.com/notebooks/data_table.ipynb>data table notebook</a>'\n",
              "            + ' to learn more about interactive tables.';\n",
              "          element.innerHTML = '';\n",
              "          dataTable['output_type'] = 'display_data';\n",
              "          await google.colab.output.renderOutput(dataTable, element);\n",
              "          const docLink = document.createElement('div');\n",
              "          docLink.innerHTML = docLinkHtml;\n",
              "          element.appendChild(docLink);\n",
              "        }\n",
              "      </script>\n",
              "    </div>\n",
              "  </div>\n",
              "  "
            ]
          },
          "metadata": {},
          "execution_count": 9
        }
      ]
    },
    {
      "cell_type": "markdown",
      "source": [
        "Memvisualkan persebaran data"
      ],
      "metadata": {
        "id": "cvQvWwTo0qyS"
      }
    },
    {
      "cell_type": "code",
      "source": [
        "plt.scatter(driver.distance, driver.speed, s =10, c = \"c\", marker = \"o\", alpha = 1)\n",
        "plt.show()"
      ],
      "metadata": {
        "colab": {
          "base_uri": "https://localhost:8080/",
          "height": 267
        },
        "id": "cdR3tMU8p7jR",
        "outputId": "05b33608-eced-4e36-82a9-a7ea30e2db3f"
      },
      "execution_count": null,
      "outputs": [
        {
          "output_type": "display_data",
          "data": {
            "text/plain": [
              "<Figure size 432x288 with 1 Axes>"
            ],
            "image/png": "[encoded data removed]"
          },
          "metadata": {
            "needs_background": "light"
          }
        }
      ]
    },
    {
      "cell_type": "markdown",
      "source": [
        "Mengubah Variabel Data Frame Menjadi Array"
      ],
      "metadata": {
        "id": "fWjERX6Z00Dq"
      }
    },
    {
      "cell_type": "code",
      "source": [
        "x_array =  np.array(driver_x)\n",
        "print(x_array)"
      ],
      "metadata": {
        "colab": {
          "base_uri": "https://localhost:8080/"
        },
        "id": "4V06CwtNp9l3",
        "outputId": "576e82cc-876e-4c94-8e1a-86edd3bb569a"
      },
      "execution_count": null,
      "outputs": [
        {
          "output_type": "stream",
          "name": "stdout",
          "text": [
            "[[0.00000000e+00 1.92105856e+01]\n",
            " [0.00000000e+00 3.08482291e+01]\n",
            " [1.00000000e+00 1.35601009e+01]\n",
            " [1.00000000e+00 1.97666790e+01]\n",
            " [0.00000000e+00 2.58074009e+01]\n",
            " [2.00000000e+00 1.34691332e+00]\n",
            " [3.00000000e+00 3.68507874e+01]\n",
            " [1.00000000e+00 1.74051313e+01]\n",
            " [1.00000000e+00 1.53954361e+01]\n",
            " [1.00000000e+00 8.90272944e+00]\n",
            " [3.00000000e+00 1.50413480e+01]\n",
            " [3.00000000e+00 1.44400981e+01]\n",
            " [1.00000000e+00 1.63567325e+01]\n",
            " [1.00000000e+00 1.75427999e+01]\n",
            " [4.00000000e+00 9.45181557e+00]\n",
            " [4.00000000e+00 9.45181557e+00]\n",
            " [4.00000000e+00 1.62635039e+01]\n",
            " [4.00000000e+00 2.12235944e+01]\n",
            " [4.00000000e+00 1.94236545e+01]\n",
            " [4.00000000e+00 2.07996291e+01]\n",
            " [4.00000000e+00 8.72437242e+00]\n",
            " [4.00000000e+00 8.72437242e+00]\n",
            " [3.00000000e+00 8.68613764e+00]\n",
            " [3.00000000e+00 5.49959473e+01]\n",
            " [3.00000000e+00 5.49959473e+01]\n",
            " [1.00000000e+00 1.26110448e+01]\n",
            " [3.00000000e+00 1.45342872e+01]\n",
            " [3.00000000e+00 1.02882267e+01]\n",
            " [3.00000000e+00 1.83281891e+01]\n",
            " [1.00000000e+00 1.71776350e+01]\n",
            " [1.00000000e+00 1.70978234e+01]\n",
            " [1.00000000e+00 3.25207021e+01]\n",
            " [1.00000000e+00 1.99348099e+01]\n",
            " [1.00000000e+00 2.15138018e+01]\n",
            " [1.00000000e+00 2.75257703e+01]\n",
            " [1.00000000e+00 2.81045207e+01]\n",
            " [3.00000000e+00 2.23224625e+01]\n",
            " [3.00000000e+00 2.23224625e+01]\n",
            " [3.00000000e+00 3.23773040e+01]\n",
            " [1.00000000e+00 2.23779245e+01]\n",
            " [1.00000000e+00 2.49082559e+01]\n",
            " [5.00000000e+00 3.71409017e+01]\n",
            " [5.00000000e+00 3.71409017e+01]\n",
            " [2.00000000e+00 7.29267545e+01]\n",
            " [1.00000000e+00 6.63753526e-02]\n",
            " [1.00000000e+00 8.33281351e+01]\n",
            " [1.00000000e+00 8.33281351e+01]\n",
            " [6.00000000e+00 9.62060288e+01]\n",
            " [1.00000000e+00 3.23767476e+00]\n",
            " [1.00000000e+00 5.82100412e-01]\n",
            " [1.00000000e+00 1.38683788e+00]\n",
            " [1.00000000e+00 1.80865138e-01]\n",
            " [1.00000000e+00 1.87306515e-01]\n",
            " [1.00000000e+00 2.74035168e+00]\n",
            " [1.00000000e+00 1.55177191e+00]\n",
            " [1.00000000e+00 8.91614215e-01]\n",
            " [1.00000000e+00 1.26197446e+00]\n",
            " [7.00000000e+00 1.98334721e+01]\n",
            " [7.00000000e+00 1.68934215e+01]\n",
            " [7.00000000e+00 2.05827023e+01]\n",
            " [8.00000000e+00 3.07454686e-01]\n",
            " [8.00000000e+00 3.07454686e-01]\n",
            " [9.00000000e+00 2.16717437e+01]\n",
            " [9.00000000e+00 2.16717437e+01]\n",
            " [9.00000000e+00 3.32011780e+01]\n",
            " [9.00000000e+00 3.32011780e+01]\n",
            " [9.00000000e+00 2.68955892e+01]\n",
            " [9.00000000e+00 2.68955892e+01]\n",
            " [9.00000000e+00 3.10853313e+01]\n",
            " [9.00000000e+00 3.10853313e+01]\n",
            " [8.00000000e+00 4.61929548e-01]\n",
            " [8.00000000e+00 7.77134962e-01]\n",
            " [8.00000000e+00 1.28318370e+00]\n",
            " [8.00000000e+00 1.48769113e+00]\n",
            " [8.00000000e+00 2.30511917e+01]\n",
            " [7.00000000e+00 2.12391802e+01]\n",
            " [7.00000000e+00 2.13008272e+01]\n",
            " [7.00000000e+00 2.44305935e+01]\n",
            " [1.00000000e+00 6.37205735e-01]\n",
            " [3.00000000e+00 1.79277713e+01]\n",
            " [1.00000000e+01 1.96122416e-01]\n",
            " [1.00000000e+01 3.58392609e-02]\n",
            " [1.00000000e+00 1.03398755e+00]\n",
            " [1.00000000e+00 8.98564792e+00]\n",
            " [1.00000000e+00 7.27684347e-01]\n",
            " [1.00000000e+00 3.45644242e+00]\n",
            " [1.00000000e+00 1.58068057e+00]\n",
            " [1.00000000e+00 2.54912374e-01]\n",
            " [1.00000000e+00 9.19540230e-01]\n",
            " [1.00000000e+00 1.02290890e+00]\n",
            " [1.00000000e+00 6.01222486e-02]\n",
            " [1.00000000e+00 6.69367156e-02]\n",
            " [1.00000000e+00 1.34687985e+01]\n",
            " [1.00000000e+01 1.25918420e-01]\n",
            " [1.00000000e+01 2.37848768e+01]\n",
            " [1.00000000e+01 2.40030044e+01]\n",
            " [1.00000000e+01 2.11954933e+01]\n",
            " [1.00000000e+01 2.11954933e+01]\n",
            " [1.00000000e+01 2.03702469e+01]\n",
            " [1.10000000e+01 2.87800873e+00]\n",
            " [1.00000000e+01 1.87935954e+01]\n",
            " [1.00000000e+01 1.87935954e+01]\n",
            " [1.00000000e+01 1.49003918e+01]\n",
            " [1.00000000e+01 1.49003918e+01]\n",
            " [1.00000000e+01 2.55547122e+01]\n",
            " [1.00000000e+01 6.76963371e+00]\n",
            " [1.00000000e+01 2.24681840e+01]\n",
            " [1.00000000e+00 1.35322194e+01]\n",
            " [1.00000000e+01 1.79720982e+01]\n",
            " [1.20000000e+01 1.47120528e+01]\n",
            " [1.00000000e+01 2.95409544e+01]\n",
            " [1.00000000e+01 1.56202167e+01]\n",
            " [1.00000000e+00 9.77939319e-03]\n",
            " [1.00000000e+00 1.67788952e+01]\n",
            " [1.00000000e+00 4.87144790e+00]\n",
            " [1.00000000e+00 4.87144790e+00]\n",
            " [1.00000000e+00 3.66662787e-01]\n",
            " [1.00000000e+00 5.59217096e-01]\n",
            " [1.00000000e+00 4.68039003e+00]\n",
            " [1.00000000e+00 1.60135225e+00]\n",
            " [1.00000000e+01 1.87052756e+01]\n",
            " [1.00000000e+00 1.83416125e+00]\n",
            " [1.00000000e+01 1.35582998e+01]\n",
            " [1.30000000e+01 1.02032140e-01]\n",
            " [1.00000000e+01 1.77183941e-01]\n",
            " [1.30000000e+01 2.59576025e+01]\n",
            " [1.30000000e+01 2.59576025e+01]\n",
            " [1.00000000e+00 1.41409380e+00]\n",
            " [1.00000000e+00 1.66853680e+01]\n",
            " [1.00000000e+01 1.09412891e+01]\n",
            " [1.20000000e+01 3.03970446e+01]\n",
            " [1.40000000e+01 6.75973582e+00]\n",
            " [1.50000000e+01 2.56549384e+01]\n",
            " [1.50000000e+01 1.76544921e+01]\n",
            " [1.00000000e+01 2.45047380e+01]\n",
            " [1.00000000e+00 1.15665726e+01]\n",
            " [1.60000000e+01 1.46308964e+01]\n",
            " [1.70000000e+01 3.98475672e-01]\n",
            " [1.60000000e+01 9.07685861e+00]\n",
            " [1.80000000e+01 2.54513326e+01]\n",
            " [1.80000000e+01 2.54513326e+01]\n",
            " [1.00000000e+00 1.93767939e+01]\n",
            " [1.00000000e+01 7.13806788e+00]\n",
            " [1.00000000e+00 1.78318709e+00]\n",
            " [1.90000000e+01 1.72012210e-01]\n",
            " [2.00000000e+01 1.31161193e+00]\n",
            " [2.10000000e+01 2.31993919e+01]\n",
            " [2.10000000e+01 2.35029280e+01]\n",
            " [2.20000000e+01 1.44514212e+00]\n",
            " [2.30000000e+01 5.36246276e-01]\n",
            " [2.40000000e+01 3.66470717e+01]\n",
            " [2.40000000e+01 3.13673368e+01]\n",
            " [2.40000000e+01 2.55623968e+01]\n",
            " [2.40000000e+01 3.80281074e+01]\n",
            " [2.40000000e+01 2.81424374e+01]\n",
            " [2.40000000e+01 2.18120695e+01]\n",
            " [2.40000000e+01 2.38285146e+01]\n",
            " [2.40000000e+01 2.83366193e+01]\n",
            " [2.40000000e+01 3.00517319e+01]\n",
            " [2.40000000e+01 3.01737884e+01]\n",
            " [2.50000000e+01 1.15377219e+00]\n",
            " [2.60000000e+01 8.43222986e-01]\n",
            " [2.70000000e+01 1.37299771e+00]]\n"
          ]
        }
      ]
    },
    {
      "cell_type": "markdown",
      "source": [
        "Menstandarkan kembali ukuran variabel . Agar data dapat kembali seperti jenis data diawal sebelum di array kan"
      ],
      "metadata": {
        "id": "6eq3orlB075a"
      }
    },
    {
      "cell_type": "code",
      "source": [
        "scaler = MinMaxScaler()\n",
        "x_scaled = scaler.fit_transform(x_array)\n",
        "x_scaled"
      ],
      "metadata": {
        "colab": {
          "base_uri": "https://localhost:8080/"
        },
        "id": "7p5e077RqALf",
        "outputId": "3111b039-b0df-4c72-9ac5-2d6d5380548b"
      },
      "execution_count": null,
      "outputs": [
        {
          "output_type": "execute_result",
          "data": {
            "text/plain": [
              "array([[0.00000000e+00, 1.99600362e-01],\n",
              "       [0.00000000e+00, 3.20578504e-01],\n",
              "       [3.70370370e-02, 1.40861225e-01],\n",
              "       [3.70370370e-02, 2.05381184e-01],\n",
              "       [0.00000000e+00, 2.68176999e-01],\n",
              "       [7.40740741e-02, 1.39000630e-02],\n",
              "       [1.11111111e-01, 3.82977592e-01],\n",
              "       [3.70370370e-02, 1.80831914e-01],\n",
              "       [3.70370370e-02, 1.59940297e-01],\n",
              "       [3.70370370e-02, 9.24459124e-02],\n",
              "       [1.11111111e-01, 1.56259404e-01],\n",
              "       [1.11111111e-01, 1.50009162e-01],\n",
              "       [3.70370370e-02, 1.69933373e-01],\n",
              "       [3.70370370e-02, 1.82263037e-01],\n",
              "       [1.48148148e-01, 9.81538910e-02],\n",
              "       [1.48148148e-01, 9.81538910e-02],\n",
              "       [1.48148148e-01, 1.68964223e-01],\n",
              "       [1.48148148e-01, 2.20526426e-01],\n",
              "       [1.48148148e-01, 2.01815302e-01],\n",
              "       [1.48148148e-01, 2.16119130e-01],\n",
              "       [1.48148148e-01, 9.05918170e-02],\n",
              "       [1.48148148e-01, 9.05918170e-02],\n",
              "       [1.11111111e-01, 9.01943506e-02],\n",
              "       [1.11111111e-01, 5.71604072e-01],\n",
              "       [1.11111111e-01, 5.71604072e-01],\n",
              "       [3.70370370e-02, 1.30995392e-01],\n",
              "       [1.11111111e-01, 1.50988296e-01],\n",
              "       [1.11111111e-01, 1.06848732e-01],\n",
              "       [1.11111111e-01, 1.90427484e-01],\n",
              "       [3.70370370e-02, 1.78466996e-01],\n",
              "       [3.70370370e-02, 1.77637320e-01],\n",
              "       [3.70370370e-02, 3.37964556e-01],\n",
              "       [3.70370370e-02, 2.07128974e-01],\n",
              "       [3.70370370e-02, 2.23543252e-01],\n",
              "       [3.70370370e-02, 2.86040163e-01],\n",
              "       [3.70370370e-02, 2.92056514e-01],\n",
              "       [1.11111111e-01, 2.31949616e-01],\n",
              "       [1.11111111e-01, 2.31949616e-01],\n",
              "       [1.11111111e-01, 3.36473873e-01],\n",
              "       [3.70370370e-02, 2.32526167e-01],\n",
              "       [3.70370370e-02, 2.58830013e-01],\n",
              "       [1.85185185e-01, 3.85993452e-01],\n",
              "       [1.85185185e-01, 3.85993452e-01],\n",
              "       [7.40740741e-02, 7.58002267e-01],\n",
              "       [3.70370370e-02, 5.88338524e-04],\n",
              "       [3.70370370e-02, 8.66128941e-01],\n",
              "       [3.70370370e-02, 8.66128941e-01],\n",
              "       [2.22222222e-01, 1.00000000e+00],\n",
              "       [3.70370370e-02, 3.35553141e-02],\n",
              "       [3.70370370e-02, 5.94951490e-03],\n",
              "       [3.70370370e-02, 1.43150954e-02],\n",
              "       [3.70370370e-02, 1.77850744e-03],\n",
              "       [3.70370370e-02, 1.84546823e-03],\n",
              "       [3.70370370e-02, 2.83854340e-02],\n",
              "       [3.70370370e-02, 1.60296532e-02],\n",
              "       [3.70370370e-02, 9.16703953e-03],\n",
              "       [3.70370370e-02, 1.30170883e-02],\n",
              "       [2.59259259e-01, 2.06075526e-01],\n",
              "       [2.59259259e-01, 1.75512478e-01],\n",
              "       [2.59259259e-01, 2.13864086e-01],\n",
              "       [2.96296296e-01, 3.09445841e-03],\n",
              "       [2.96296296e-01, 3.09445841e-03],\n",
              "       [3.33333333e-01, 2.25185124e-01],\n",
              "       [3.33333333e-01, 2.25185124e-01],\n",
              "       [3.33333333e-01, 3.45038385e-01],\n",
              "       [3.33333333e-01, 3.45038385e-01],\n",
              "       [3.33333333e-01, 2.79489169e-01],\n",
              "       [3.33333333e-01, 2.79489169e-01],\n",
              "       [3.33333333e-01, 3.23043280e-01],\n",
              "       [3.33333333e-01, 3.23043280e-01],\n",
              "       [2.96296296e-01, 4.70028882e-03],\n",
              "       [2.96296296e-01, 7.97698012e-03],\n",
              "       [2.96296296e-01, 1.32375671e-02],\n",
              "       [2.96296296e-01, 1.53635068e-02],\n",
              "       [2.96296296e-01, 2.39525059e-01],\n",
              "       [2.59259259e-01, 2.20688446e-01],\n",
              "       [2.59259259e-01, 2.21329292e-01],\n",
              "       [2.59259259e-01, 2.53864514e-01],\n",
              "       [3.70370370e-02, 6.52235763e-03],\n",
              "       [1.11111111e-01, 1.86264974e-01],\n",
              "       [3.70370370e-01, 1.93711318e-03],\n",
              "       [3.70370370e-01, 2.70903158e-04],\n",
              "       [3.70370370e-02, 1.06470696e-02],\n",
              "       [3.70370370e-02, 9.33078845e-02],\n",
              "       [3.70370370e-02, 7.46292041e-03],\n",
              "       [3.70370370e-02, 3.58294949e-02],\n",
              "       [3.70370370e-02, 1.63301707e-02],\n",
              "       [3.70370370e-02, 2.54825923e-03],\n",
              "       [3.70370370e-02, 9.45734207e-03],\n",
              "       [3.70370370e-02, 1.05319023e-02],\n",
              "       [3.70370370e-02, 5.23334908e-04],\n",
              "       [3.70370370e-02, 5.94174126e-04],\n",
              "       [3.70370370e-02, 1.39912099e-01],\n",
              "       [3.70370370e-01, 1.20731346e-03],\n",
              "       [3.70370370e-01, 2.47152020e-01],\n",
              "       [3.70370370e-01, 2.49419548e-01],\n",
              "       [3.70370370e-01, 2.20234303e-01],\n",
              "       [3.70370370e-01, 2.20234303e-01],\n",
              "       [3.70370370e-01, 2.11655523e-01],\n",
              "       [4.07407407e-01, 2.98164362e-02],\n",
              "       [3.70370370e-01, 1.95265576e-01],\n",
              "       [3.70370370e-01, 1.95265576e-01],\n",
              "       [3.70370370e-01, 1.54794106e-01],\n",
              "       [3.70370370e-01, 1.54794106e-01],\n",
              "       [3.70370370e-01, 2.65550195e-01],\n",
              "       [3.70370370e-01, 7.02714956e-02],\n",
              "       [3.70370370e-01, 2.33464452e-01],\n",
              "       [3.70370370e-02, 1.40571385e-01],\n",
              "       [3.70370370e-01, 1.86725771e-01],\n",
              "       [4.44444444e-01, 1.52836244e-01],\n",
              "       [3.70370370e-01, 3.06988840e-01],\n",
              "       [3.70370370e-01, 1.62276985e-01],\n",
              "       [3.70370370e-02, 0.00000000e+00],\n",
              "       [3.70370370e-02, 1.74321929e-01],\n",
              "       [3.70370370e-02, 5.05390651e-02],\n",
              "       [3.70370370e-02, 5.05390651e-02],\n",
              "       [3.70370370e-02, 3.70995123e-03],\n",
              "       [3.70370370e-02, 5.71163331e-03],\n",
              "       [3.70370370e-02, 4.85529391e-02],\n",
              "       [3.70370370e-02, 1.65450615e-02],\n",
              "       [3.70370370e-01, 1.94347455e-01],\n",
              "       [3.70370370e-02, 1.89652078e-02],\n",
              "       [3.70370370e-01, 1.40842502e-01],\n",
              "       [4.81481481e-01, 9.59005652e-04],\n",
              "       [3.70370370e-01, 1.74023986e-03],\n",
              "       [4.81481481e-01, 2.69738408e-01],\n",
              "       [4.81481481e-01, 2.69738408e-01],\n",
              "       [3.70370370e-02, 1.45984320e-02],\n",
              "       [3.70370370e-02, 1.73349676e-01],\n",
              "       [3.70370370e-01, 1.13637587e-01],\n",
              "       [4.44444444e-01, 3.15888254e-01],\n",
              "       [5.18518519e-01, 7.01686029e-02],\n",
              "       [5.55555556e-01, 2.66592088e-01],\n",
              "       [5.55555556e-01, 1.83424124e-01],\n",
              "       [3.70370370e-01, 2.54635277e-01],\n",
              "       [3.70370370e-02, 1.20137670e-01],\n",
              "       [5.92592593e-01, 1.51992589e-01],\n",
              "       [6.29629630e-01, 4.04065940e-03],\n",
              "       [5.92592593e-01, 9.42560575e-02],\n",
              "       [6.66666667e-01, 2.64475521e-01],\n",
              "       [6.66666667e-01, 2.64475521e-01],\n",
              "       [3.70370370e-02, 2.01328167e-01],\n",
              "       [3.70370370e-01, 7.41015219e-02],\n",
              "       [3.70370370e-02, 1.84353102e-02],\n",
              "       [7.03703704e-01, 1.68647757e-03],\n",
              "       [7.40740741e-01, 1.35330904e-02],\n",
              "       [7.77777778e-01, 2.41065661e-01],\n",
              "       [7.77777778e-01, 2.44221046e-01],\n",
              "       [8.14814815e-01, 1.49211922e-02],\n",
              "       [8.51851852e-01, 5.47284209e-03],\n",
              "       [8.88888889e-01, 3.80859883e-01],\n",
              "       [8.88888889e-01, 3.25974844e-01],\n",
              "       [8.88888889e-01, 2.65630080e-01],\n",
              "       [8.88888889e-01, 3.95216323e-01],\n",
              "       [8.88888889e-01, 2.92450674e-01],\n",
              "       [8.88888889e-01, 2.26643869e-01],\n",
              "       [8.88888889e-01, 2.47605654e-01],\n",
              "       [8.88888889e-01, 2.94469276e-01],\n",
              "       [8.88888889e-01, 3.12298584e-01],\n",
              "       [8.88888889e-01, 3.13567412e-01],\n",
              "       [9.25925926e-01, 1.18922807e-02],\n",
              "       [9.62962963e-01, 8.66399259e-03],\n",
              "       [1.00000000e+00, 1.41712211e-02]])"
            ]
          },
          "metadata": {},
          "execution_count": 12
        }
      ]
    },
    {
      "cell_type": "markdown",
      "source": [
        "Menentukan dan mengkonfigurasi fungsi kmeans dan Menentukan kluster dari data"
      ],
      "metadata": {
        "id": "7Jd5cd921HPx"
      }
    },
    {
      "cell_type": "code",
      "source": [
        "kmeans = KMeans(n_clusters = 3, random_state=123)\n",
        "kmeans.fit(x_scaled)"
      ],
      "metadata": {
        "colab": {
          "base_uri": "https://localhost:8080/"
        },
        "id": "qxiD1su2qCIy",
        "outputId": "3e22583c-801e-4365-873c-722bba359366"
      },
      "execution_count": null,
      "outputs": [
        {
          "output_type": "execute_result",
          "data": {
            "text/plain": [
              "KMeans(n_clusters=3, random_state=123)"
            ]
          },
          "metadata": {},
          "execution_count": 13
        }
      ]
    },
    {
      "cell_type": "markdown",
      "source": [
        "Memvisualisasikan Kluster"
      ],
      "metadata": {
        "id": "QAQZEGL21RTn"
      }
    },
    {
      "cell_type": "code",
      "source": [
        "print(kmeans.cluster_centers_)"
      ],
      "metadata": {
        "colab": {
          "base_uri": "https://localhost:8080/"
        },
        "id": "zWBQOlPzqHjE",
        "outputId": "b9b47e0a-999b-4f2e-d46f-83825b151395"
      },
      "execution_count": null,
      "outputs": [
        {
          "output_type": "stream",
          "name": "stdout",
          "text": [
            "[[0.32745444 0.24013088]\n",
            " [0.05750487 0.11540774]\n",
            " [0.81635802 0.18289936]]\n"
          ]
        }
      ]
    },
    {
      "cell_type": "markdown",
      "source": [
        "Menampilkan Hasil Kluster dan Menambahkan Kolom \"kluster\" Dalam Data Frame Driver"
      ],
      "metadata": {
        "id": "Y0iSBRUF1uyt"
      }
    },
    {
      "cell_type": "code",
      "source": [
        "print(kmeans.labels_)\n",
        "driver[\"kluster\"] = kmeans.labels_"
      ],
      "metadata": {
        "colab": {
          "base_uri": "https://localhost:8080/"
        },
        "id": "W9FGG6wOqHoC",
        "outputId": "d4efb971-6a5b-444a-9d20-e89ae958c69a"
      },
      "execution_count": null,
      "outputs": [
        {
          "output_type": "stream",
          "name": "stdout",
          "text": [
            "[1 1 1 1 1 1 0 1 1 1 1 1 1 1 1 1 1 1 1 1 1 1 1 0 0 1 1 1 1 1 1 1 1 1 1 1 1\n",
            " 1 1 1 1 0 0 0 1 0 0 0 1 1 1 1 1 1 1 1 1 0 0 0 0 0 0 0 0 0 0 0 0 0 0 0 0 0\n",
            " 0 0 0 0 1 1 0 0 1 1 1 1 1 1 1 1 1 1 1 0 0 0 0 0 0 0 0 0 0 0 0 0 0 1 0 0 0\n",
            " 0 1 1 1 1 1 1 1 1 0 1 0 0 0 0 0 1 1 0 0 0 0 0 0 1 2 2 2 2 2 1 0 1 2 2 2 2\n",
            " 2 2 2 2 2 2 2 2 2 2 2 2 2 2 2]\n"
          ]
        }
      ]
    },
    {
      "cell_type": "markdown",
      "source": [
        "Memvisualisasikan hasil cluster"
      ],
      "metadata": {
        "id": "78Q2tTFD1kEp"
      }
    },
    {
      "cell_type": "code",
      "source": [
        "output = plt.scatter(x_scaled[:,0], x_scaled[:,1], s = 100, c = driver.kluster, marker = \"o\", alpha = 1, )\n",
        "centers = kmeans.cluster_centers_\n",
        "plt.scatter(centers[:,0], centers[:,1], c='red', s=200, alpha=1 , marker=\"s\");\n",
        "plt.title(\"Hasil Klustering K-Means\")\n",
        "plt.colorbar (output)\n",
        "plt.show()"
      ],
      "metadata": {
        "colab": {
          "base_uri": "https://localhost:8080/",
          "height": 281
        },
        "id": "OIaROFt3qHy3",
        "outputId": "d5557e75-2e54-4316-8cad-a46a38f8536b"
      },
      "execution_count": null,
      "outputs": [
        {
          "output_type": "display_data",
          "data": {
            "text/plain": [
              "<Figure size 432x288 with 2 Axes>"
            ],
            "image/png": "[encoded data removed]"
          },
          "metadata": {
            "needs_background": "light"
          }
        }
      ]
    }
  ]
}